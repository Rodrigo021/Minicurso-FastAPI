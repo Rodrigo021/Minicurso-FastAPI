{
 "cells": [
  {
   "attachments": {},
   "cell_type": "markdown",
   "metadata": {},
   "source": [
    "Python é uma linguagem de programação interpretada, de tipagem dinâmica e orientada a objetos.\n",
    "\n",
    "Entre os tipos de dados em Python, temos:\n",
    "<li>inteiros (int)\n",
    "<li>números de ponto flutuante (float)\n",
    "<li>strings (str)\n",
    "<li>booleanos (bool)\n",
    "<br>\n",
    "\n",
    "As variáveis em Python são definidas por meio do operador de atribuição \"=\"."
   ]
  },
  {
   "cell_type": "code",
   "execution_count": 1,
   "metadata": {},
   "outputs": [],
   "source": [
    "inteiro = 5\n",
    "\n",
    "ponto_flutuante = 2.5\n",
    "\n",
    "strings = 'banana'\n",
    "\n",
    "booleanos = True | False"
   ]
  },
  {
   "attachments": {},
   "cell_type": "markdown",
   "metadata": {},
   "source": [
    "Para realizar operações matemáticas, podemos utilizar os operadores aritméticos básicos, como:<br>\n",
    "<li>\"+\" para adição\n",
    "<li>\"-\" para subtração\n",
    "<li>\"*\" para multiplicação\n",
    "<li>\"/\" para divisão"
   ]
  },
  {
   "cell_type": "code",
   "execution_count": 17,
   "metadata": {},
   "outputs": [
    {
     "name": "stdout",
     "output_type": "stream",
     "text": [
      "5\n"
     ]
    }
   ],
   "source": [
    "#adição\n",
    "print(2+3)"
   ]
  },
  {
   "cell_type": "code",
   "execution_count": 18,
   "metadata": {},
   "outputs": [
    {
     "name": "stdout",
     "output_type": "stream",
     "text": [
      "3\n"
     ]
    }
   ],
   "source": [
    "#subtração\n",
    "print(6-3)"
   ]
  },
  {
   "cell_type": "code",
   "execution_count": 19,
   "metadata": {},
   "outputs": [
    {
     "name": "stdout",
     "output_type": "stream",
     "text": [
      "4\n"
     ]
    }
   ],
   "source": [
    "#multiplicação\n",
    "print(2*2)"
   ]
  },
  {
   "cell_type": "code",
   "execution_count": 20,
   "metadata": {},
   "outputs": [
    {
     "name": "stdout",
     "output_type": "stream",
     "text": [
      "5.0\n"
     ]
    }
   ],
   "source": [
    "#divisão\n",
    "print(10/2)"
   ]
  },
  {
   "attachments": {},
   "cell_type": "markdown",
   "metadata": {},
   "source": [
    "Além disso, temos também os operadores lógicos:<br>\n",
    "<li> AND\n",
    "<li> OR\n",
    "<li> NOT<br>\n",
    "\n",
    "e os de comparação:<br>\n",
    "<li>\"<\"\n",
    "<li>\">\"\n",
    "<li>\"==\"\n",
    "<li>\"!=\""
   ]
  },
  {
   "attachments": {},
   "cell_type": "markdown",
   "metadata": {},
   "source": [
    "Exemplos:"
   ]
  },
  {
   "cell_type": "code",
   "execution_count": 22,
   "metadata": {},
   "outputs": [],
   "source": [
    "#operadores lógicos\n",
    "a = 9\n",
    "b = 10\n",
    "\n",
    "if a<8 and b>3:\n",
    "    print('Ambas as condições são verdadeiras')"
   ]
  },
  {
   "cell_type": "code",
   "execution_count": 23,
   "metadata": {},
   "outputs": [
    {
     "name": "stdout",
     "output_type": "stream",
     "text": [
      "0\n",
      "1\n",
      "2\n",
      "3\n",
      "4\n",
      "5\n",
      "6\n",
      "7\n",
      "8\n",
      "9\n"
     ]
    }
   ],
   "source": [
    "#operadores de comparação\n",
    "contador = 0\n",
    "\n",
    "while contador < 10:\n",
    "    print(contador)\n",
    "    contador = contador + 1 "
   ]
  },
  {
   "attachments": {},
   "cell_type": "markdown",
   "metadata": {},
   "source": [
    "Para criar funções em Python, utilizamos a palavra reservada \"def\", seguida do nome da função e seus parâmetros entre parênteses."
   ]
  },
  {
   "cell_type": "code",
   "execution_count": 26,
   "metadata": {},
   "outputs": [],
   "source": [
    "def soma(a, b):\n",
    "    resultado = a*b\n",
    "    return resultado"
   ]
  },
  {
   "cell_type": "code",
   "execution_count": 27,
   "metadata": {},
   "outputs": [
    {
     "data": {
      "text/plain": [
       "10"
      ]
     },
     "execution_count": 27,
     "metadata": {},
     "output_type": "execute_result"
    }
   ],
   "source": [
    "soma(5,2)"
   ]
  }
 ],
 "metadata": {
  "kernelspec": {
   "display_name": "Python 3",
   "language": "python",
   "name": "python3"
  },
  "language_info": {
   "codemirror_mode": {
    "name": "ipython",
    "version": 3
   },
   "file_extension": ".py",
   "mimetype": "text/x-python",
   "name": "python",
   "nbconvert_exporter": "python",
   "pygments_lexer": "ipython3",
   "version": "3.10.5"
  },
  "orig_nbformat": 4
 },
 "nbformat": 4,
 "nbformat_minor": 2
}
